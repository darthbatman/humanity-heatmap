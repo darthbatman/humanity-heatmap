{
 "cells": [
  {
   "cell_type": "code",
   "execution_count": 1,
   "metadata": {},
   "outputs": [],
   "source": [
    "%matplotlib inline\n",
    "import pandas as pd"
   ]
  },
  {
   "cell_type": "code",
   "execution_count": 39,
   "metadata": {},
   "outputs": [],
   "source": [
    "# Load CSVs\n",
    "daily_12_16 = pd.read_csv('habitat_data/datasets/donations_by_day_2012_2016.csv')\n",
    "weekly_17_19 = pd.read_csv('habitat_data/datasets/donations_by_week_2017_2019.csv')"
   ]
  },
  {
   "cell_type": "code",
   "execution_count": 40,
   "metadata": {},
   "outputs": [],
   "source": [
    "# Date of first day of the week\n",
    "weekly_17_19['Date'] = weekly_17_19['WEEK'].apply(lambda x: x.split('-')[0])"
   ]
  },
  {
   "cell_type": "code",
   "execution_count": 41,
   "metadata": {},
   "outputs": [],
   "source": [
    "# Correct Year\n",
    "first_half = {'July', 'Aug', 'Sept', 'Oct', 'Nov', 'Dec'}\n",
    "weekly_17_19['Date'] = weekly_17_19.apply(lambda x: x['Date'] + ' 20' + x['FILE'][2:].split('-')[0] if x['Date'].split(' ')[0] in first_half else x['Date'] + ' 20' + x['FILE'][2:].split('-')[0], axis=1)"
   ]
  },
  {
   "cell_type": "code",
   "execution_count": 42,
   "metadata": {},
   "outputs": [],
   "source": [
    "# Drop old columns\n",
    "weekly_17_19.drop(['FILE', 'WEEK'], axis=1, inplace=True)"
   ]
  },
  {
   "cell_type": "code",
   "execution_count": 43,
   "metadata": {},
   "outputs": [],
   "source": [
    "# Manual fixes\n",
    "weekly_17_19.at[26, 'Date'] = 'Sept 19 2016'\n",
    "weekly_17_19.at[27, 'Date'] = 'Sept 19 2016'\n",
    "\n",
    "weekly_17_19.at[42, 'Date'] = 'Nov 7 2016'\n",
    "weekly_17_19.at[43, 'Date'] = 'Nov 7 2016'\n",
    "\n",
    "weekly_17_19.at[68, 'Date'] = 'Jan 30 2016'\n",
    "weekly_17_19.at[69, 'Date'] = 'Jan 30 2016'\n",
    "weekly_17_19.at[70, 'Date'] = 'Jan 30 2016'\n",
    "weekly_17_19.at[71, 'Date'] = 'Jan 30 2016'\n",
    "weekly_17_19.at[72, 'Date'] = 'Jan 30 2016'\n",
    "\n",
    "weekly_17_19.at[93, 'Date'] = 'Mar 27 2017'\n",
    "weekly_17_19.at[94, 'Date'] = 'Mar 27 2017'\n",
    "\n",
    "weekly_17_19.at[158, 'Date'] = 'Aug 29 2017'\n",
    "weekly_17_19.at[159, 'Date'] = 'Aug 29 2017'\n",
    "weekly_17_19.at[160, 'Date'] = 'Aug 29 2017'\n",
    "\n",
    "weekly_17_19.at[185, 'Date'] = 'Oct 31 2017'\n",
    "weekly_17_19.at[186, 'Date'] = 'Oct 31 2017'\n",
    "weekly_17_19.at[187, 'Date'] = 'Oct 31 2017'\n",
    "weekly_17_19.at[188, 'Date'] = 'Oct 31 2017'\n",
    "weekly_17_19.at[189, 'Date'] = 'Oct 31 2017'\n",
    "weekly_17_19.at[190, 'Date'] = 'Oct 31 2017'\n",
    "\n",
    "weekly_17_19.at[203, 'Date'] = 'Nov 28 2017'\n",
    "weekly_17_19.at[204, 'Date'] = 'Nov 28 2017'\n",
    "weekly_17_19.at[205, 'Date'] = 'Nov 28 2017'\n",
    "\n",
    "weekly_17_19.at[209, 'Date'] = 'Dec 12 2017'\n",
    "weekly_17_19.at[210, 'Date'] = 'Dec 12 2017'\n",
    "weekly_17_19.at[211, 'Date'] = 'Dec 12 2017'\n",
    "\n",
    "weekly_17_19.at[230, 'Date'] = 'Jan 30 2018'\n",
    "weekly_17_19.at[231, 'Date'] = 'Jan 30 2018'\n",
    "weekly_17_19.at[232, 'Date'] = 'Jan 30 2018'\n",
    "weekly_17_19.at[233, 'Date'] = 'Jan 30 2018'\n",
    "weekly_17_19.at[234, 'Date'] = 'Jan 30 2018'\n",
    "weekly_17_19.at[235, 'Date'] = 'Jan 30 2018'\n",
    "\n",
    "weekly_17_19.at[245, 'Date'] = 'Feb 27 2018'\n",
    "weekly_17_19.at[246, 'Date'] = 'Feb 27 2018'\n",
    "weekly_17_19.at[247, 'Date'] = 'Feb 27 2018'\n",
    "weekly_17_19.at[248, 'Date'] = 'Feb 27 2018'\n",
    "weekly_17_19.at[249, 'Date'] = 'Feb 27 2018'\n",
    "weekly_17_19.at[250, 'Date'] = 'Feb 27 2018'\n",
    "\n",
    "weekly_17_19.at[275, 'Date'] = 'Apr 30 2018'\n",
    "weekly_17_19.at[276, 'Date'] = 'Apr 30 2018'\n",
    "weekly_17_19.at[277, 'Date'] = 'Apr 30 2018'\n",
    "\n",
    "weekly_17_19.at[293, 'Date'] = 'Aug 29 2018'\n",
    "weekly_17_19.at[294, 'Date'] = 'Aug 29 2018'\n",
    "weekly_17_19.at[295, 'Date'] = 'Aug 29 2018'\n",
    "\n",
    "weekly_17_19.at[365, 'Date'] = 'Jan 28 2019'\n",
    "weekly_17_19.at[366, 'Date'] = 'Jan 28 2019'\n",
    "weekly_17_19.at[367, 'Date'] = 'Jan 28 2019'\n",
    "\n",
    "weekly_17_19.at[380, 'Date'] = 'Feb 25 2019'\n",
    "weekly_17_19.at[381, 'Date'] = 'Feb 25 2019'\n",
    "weekly_17_19.at[382, 'Date'] = 'Feb 25 2019'\n",
    "\n",
    "weekly_17_19.at[407, 'Date'] = 'Apr 29 2019'\n",
    "weekly_17_19.at[408, 'Date'] = 'Apr 29 2019'\n",
    "weekly_17_19.at[409, 'Date'] = 'Apr 29 2019'\n",
    "weekly_17_19.at[410, 'Date'] = 'Apr 29 2019'\n",
    "weekly_17_19.at[411, 'Date'] = 'Apr 29 2019'\n",
    "weekly_17_19.at[412, 'Date'] = 'Apr 29 2019'\n",
    "\n",
    "weekly_17_19.at[425, 'Date'] = 'May 27 2019'\n",
    "weekly_17_19.at[426, 'Date'] = 'May 27 2019'\n",
    "weekly_17_19.at[427, 'Date'] = 'May 27 2019'"
   ]
  },
  {
   "cell_type": "code",
   "execution_count": 44,
   "metadata": {},
   "outputs": [],
   "source": [
    "# Months have to be 3 characters\n",
    "weekly_17_19['Date'] = weekly_17_19['Date'].apply(lambda x: x.split(' ')[0][:3] + ' ' + ' '.join(x.split(' ')[1:]))"
   ]
  },
  {
   "cell_type": "code",
   "execution_count": 45,
   "metadata": {},
   "outputs": [],
   "source": [
    "# Convert date column to datetime\n",
    "weekly_17_19['Date'] = pd.to_datetime(weekly_17_19['Date'], format='%b %d %Y')"
   ]
  },
  {
   "cell_type": "code",
   "execution_count": 46,
   "metadata": {},
   "outputs": [],
   "source": [
    "# Set date as index\n",
    "weekly_17_19.set_index('Date', inplace=True)"
   ]
  },
  {
   "cell_type": "code",
   "execution_count": 47,
   "metadata": {},
   "outputs": [],
   "source": [
    "# Reset column names\n",
    "weekly_17_19.columns = ['Type', 'Count']"
   ]
  },
  {
   "cell_type": "code",
   "execution_count": 48,
   "metadata": {},
   "outputs": [],
   "source": [
    "# Fix type column for daily data\n",
    "daily_12_16['Type'] = daily_12_16.apply(lambda x: 'Declined' if pd.notna(x['ReceiptDeclined']) else x['Type'], axis=1)\n",
    "daily_12_16['Type'] = daily_12_16.apply(lambda x: x['Type'] if pd.notna(x['Type']) else 'Individual', axis=1)"
   ]
  },
  {
   "cell_type": "code",
   "execution_count": 49,
   "metadata": {},
   "outputs": [],
   "source": [
    "# Drop extra columns\n",
    "daily_12_16.drop(['Address', 'AddToMailingList', 'VolunteerInterest', 'Notes', 'ReceiptDeclined', 'ID'], axis=1, inplace=True)"
   ]
  },
  {
   "cell_type": "code",
   "execution_count": 50,
   "metadata": {},
   "outputs": [],
   "source": [
    "# Aggregate individual dates\n",
    "daily_12_16 = daily_12_16.groupby(['Date', 'Type'], as_index=False).aggregate({'NoOfDonations': 'sum'})"
   ]
  },
  {
   "cell_type": "code",
   "execution_count": 51,
   "metadata": {},
   "outputs": [],
   "source": [
    "# Convert date to datetime\n",
    "daily_12_16['Date'] = pd.to_datetime(daily_12_16['Date'], format='%m/%d/%Y')"
   ]
  },
  {
   "cell_type": "code",
   "execution_count": 52,
   "metadata": {},
   "outputs": [],
   "source": [
    "# Aggregate weekly\n",
    "daily_12_16 = daily_12_16.groupby(['Type', pd.Grouper(key='Date', freq='W-MON')])['NoOfDonations'].sum().reset_index().sort_values('Date')"
   ]
  },
  {
   "cell_type": "code",
   "execution_count": 53,
   "metadata": {},
   "outputs": [],
   "source": [
    "# Set dates to index\n",
    "daily_12_16.set_index('Date', inplace=True)"
   ]
  },
  {
   "cell_type": "code",
   "execution_count": 54,
   "metadata": {},
   "outputs": [],
   "source": [
    "# Rename columns\n",
    "daily_12_16.columns = ['Type', 'Count']"
   ]
  },
  {
   "cell_type": "code",
   "execution_count": 55,
   "metadata": {},
   "outputs": [
    {
     "data": {
      "text/html": [
       "<div>\n",
       "<style scoped>\n",
       "    .dataframe tbody tr th:only-of-type {\n",
       "        vertical-align: middle;\n",
       "    }\n",
       "\n",
       "    .dataframe tbody tr th {\n",
       "        vertical-align: top;\n",
       "    }\n",
       "\n",
       "    .dataframe thead th {\n",
       "        text-align: right;\n",
       "    }\n",
       "</style>\n",
       "<table border=\"1\" class=\"dataframe\">\n",
       "  <thead>\n",
       "    <tr style=\"text-align: right;\">\n",
       "      <th></th>\n",
       "      <th>Type</th>\n",
       "      <th>Count</th>\n",
       "    </tr>\n",
       "    <tr>\n",
       "      <th>Date</th>\n",
       "      <th></th>\n",
       "      <th></th>\n",
       "    </tr>\n",
       "  </thead>\n",
       "  <tbody>\n",
       "    <tr>\n",
       "      <td>2016-07-01</td>\n",
       "      <td>Individual</td>\n",
       "      <td>47.0</td>\n",
       "    </tr>\n",
       "    <tr>\n",
       "      <td>2016-07-01</td>\n",
       "      <td>Declined</td>\n",
       "      <td>21.0</td>\n",
       "    </tr>\n",
       "    <tr>\n",
       "      <td>2016-07-06</td>\n",
       "      <td>Individual</td>\n",
       "      <td>37.0</td>\n",
       "    </tr>\n",
       "    <tr>\n",
       "      <td>2016-07-06</td>\n",
       "      <td>Declined</td>\n",
       "      <td>38.0</td>\n",
       "    </tr>\n",
       "    <tr>\n",
       "      <td>2016-07-11</td>\n",
       "      <td>Individual</td>\n",
       "      <td>77.0</td>\n",
       "    </tr>\n",
       "    <tr>\n",
       "      <td>...</td>\n",
       "      <td>...</td>\n",
       "      <td>...</td>\n",
       "    </tr>\n",
       "    <tr>\n",
       "      <td>2018-06-17</td>\n",
       "      <td>No Receipt</td>\n",
       "      <td>64.0</td>\n",
       "    </tr>\n",
       "    <tr>\n",
       "      <td>2018-06-17</td>\n",
       "      <td>Business</td>\n",
       "      <td>2.0</td>\n",
       "    </tr>\n",
       "    <tr>\n",
       "      <td>2018-06-24</td>\n",
       "      <td>Individual</td>\n",
       "      <td>27.0</td>\n",
       "    </tr>\n",
       "    <tr>\n",
       "      <td>2018-06-24</td>\n",
       "      <td>No Receipt</td>\n",
       "      <td>87.0</td>\n",
       "    </tr>\n",
       "    <tr>\n",
       "      <td>2018-06-24</td>\n",
       "      <td>Business</td>\n",
       "      <td>1.0</td>\n",
       "    </tr>\n",
       "  </tbody>\n",
       "</table>\n",
       "<p>440 rows × 2 columns</p>\n",
       "</div>"
      ],
      "text/plain": [
       "                  Type  Count\n",
       "Date                         \n",
       "2016-07-01  Individual   47.0\n",
       "2016-07-01    Declined   21.0\n",
       "2016-07-06  Individual   37.0\n",
       "2016-07-06    Declined   38.0\n",
       "2016-07-11  Individual   77.0\n",
       "...                ...    ...\n",
       "2018-06-17  No Receipt   64.0\n",
       "2018-06-17    Business    2.0\n",
       "2018-06-24  Individual   27.0\n",
       "2018-06-24  No Receipt   87.0\n",
       "2018-06-24    Business    1.0\n",
       "\n",
       "[440 rows x 2 columns]"
      ]
     },
     "execution_count": 55,
     "metadata": {},
     "output_type": "execute_result"
    }
   ],
   "source": [
    "weekly_17_19"
   ]
  },
  {
   "cell_type": "code",
   "execution_count": 56,
   "metadata": {},
   "outputs": [
    {
     "data": {
      "text/html": [
       "<div>\n",
       "<style scoped>\n",
       "    .dataframe tbody tr th:only-of-type {\n",
       "        vertical-align: middle;\n",
       "    }\n",
       "\n",
       "    .dataframe tbody tr th {\n",
       "        vertical-align: top;\n",
       "    }\n",
       "\n",
       "    .dataframe thead th {\n",
       "        text-align: right;\n",
       "    }\n",
       "</style>\n",
       "<table border=\"1\" class=\"dataframe\">\n",
       "  <thead>\n",
       "    <tr style=\"text-align: right;\">\n",
       "      <th></th>\n",
       "      <th>Type</th>\n",
       "      <th>Count</th>\n",
       "    </tr>\n",
       "    <tr>\n",
       "      <th>Date</th>\n",
       "      <th></th>\n",
       "      <th></th>\n",
       "    </tr>\n",
       "  </thead>\n",
       "  <tbody>\n",
       "    <tr>\n",
       "      <td>2012-01-16</td>\n",
       "      <td>Declined</td>\n",
       "      <td>3.0</td>\n",
       "    </tr>\n",
       "    <tr>\n",
       "      <td>2012-01-16</td>\n",
       "      <td>Individual</td>\n",
       "      <td>7.0</td>\n",
       "    </tr>\n",
       "    <tr>\n",
       "      <td>2012-01-23</td>\n",
       "      <td>Individual</td>\n",
       "      <td>14.0</td>\n",
       "    </tr>\n",
       "    <tr>\n",
       "      <td>2012-01-23</td>\n",
       "      <td>Declined</td>\n",
       "      <td>19.0</td>\n",
       "    </tr>\n",
       "    <tr>\n",
       "      <td>2012-07-02</td>\n",
       "      <td>Declined</td>\n",
       "      <td>6.0</td>\n",
       "    </tr>\n",
       "    <tr>\n",
       "      <td>...</td>\n",
       "      <td>...</td>\n",
       "      <td>...</td>\n",
       "    </tr>\n",
       "    <tr>\n",
       "      <td>2016-05-30</td>\n",
       "      <td>Business</td>\n",
       "      <td>5.0</td>\n",
       "    </tr>\n",
       "    <tr>\n",
       "      <td>2016-05-30</td>\n",
       "      <td>Individual</td>\n",
       "      <td>58.0</td>\n",
       "    </tr>\n",
       "    <tr>\n",
       "      <td>2016-06-06</td>\n",
       "      <td>Business</td>\n",
       "      <td>2.0</td>\n",
       "    </tr>\n",
       "    <tr>\n",
       "      <td>2016-06-06</td>\n",
       "      <td>Declined</td>\n",
       "      <td>6.0</td>\n",
       "    </tr>\n",
       "    <tr>\n",
       "      <td>2016-06-06</td>\n",
       "      <td>Individual</td>\n",
       "      <td>13.0</td>\n",
       "    </tr>\n",
       "  </tbody>\n",
       "</table>\n",
       "<p>352 rows × 2 columns</p>\n",
       "</div>"
      ],
      "text/plain": [
       "                  Type  Count\n",
       "Date                         \n",
       "2012-01-16    Declined    3.0\n",
       "2012-01-16  Individual    7.0\n",
       "2012-01-23  Individual   14.0\n",
       "2012-01-23    Declined   19.0\n",
       "2012-07-02    Declined    6.0\n",
       "...                ...    ...\n",
       "2016-05-30    Business    5.0\n",
       "2016-05-30  Individual   58.0\n",
       "2016-06-06    Business    2.0\n",
       "2016-06-06    Declined    6.0\n",
       "2016-06-06  Individual   13.0\n",
       "\n",
       "[352 rows x 2 columns]"
      ]
     },
     "execution_count": 56,
     "metadata": {},
     "output_type": "execute_result"
    }
   ],
   "source": [
    "daily_12_16"
   ]
  },
  {
   "cell_type": "code",
   "execution_count": 57,
   "metadata": {},
   "outputs": [],
   "source": [
    "# Merge columns\n",
    "merged_data = daily_12_16.append(weekly_17_19)"
   ]
  },
  {
   "cell_type": "code",
   "execution_count": 58,
   "metadata": {},
   "outputs": [],
   "source": [
    "total_count = merged_data.groupby(['Date']).aggregate({'Count': 'sum'})"
   ]
  },
  {
   "cell_type": "code",
   "execution_count": 59,
   "metadata": {},
   "outputs": [
    {
     "data": {
      "text/plain": [
       "<matplotlib.axes._subplots.AxesSubplot at 0x7f7c7e915ad0>"
      ]
     },
     "execution_count": 59,
     "metadata": {},
     "output_type": "execute_result"
    },
    {
     "data": {
      "image/png": "[encoded data removed]",
      "text/plain": [
       "<Figure size 432x288 with 1 Axes>"
      ]
     },
     "metadata": {
      "needs_background": "light"
     },
     "output_type": "display_data"
    }
   ],
   "source": [
    "total_count.plot(y='Count')"
   ]
  },
  {
   "cell_type": "code",
   "execution_count": 60,
   "metadata": {},
   "outputs": [
    {
     "data": {
      "text/plain": [
       "array(['Declined', 'Individual', 'Business', 'No Receipt'], dtype=object)"
      ]
     },
     "execution_count": 60,
     "metadata": {},
     "output_type": "execute_result"
    }
   ],
   "source": [
    "merged_data['Type'].unique()"
   ]
  },
  {
   "cell_type": "code",
   "execution_count": 61,
   "metadata": {},
   "outputs": [],
   "source": [
    "declined_count = merged_data.loc[merged_data['Type'] == 'Declined']"
   ]
  },
  {
   "cell_type": "code",
   "execution_count": 62,
   "metadata": {},
   "outputs": [
    {
     "data": {
      "text/plain": [
       "<matplotlib.axes._subplots.AxesSubplot at 0x7f7c7e8d3890>"
      ]
     },
     "execution_count": 62,
     "metadata": {},
     "output_type": "execute_result"
    },
    {
     "data": {
      "image/png": "[encoded data removed]",
      "text/plain": [
       "<Figure size 432x288 with 1 Axes>"
      ]
     },
     "metadata": {
      "needs_background": "light"
     },
     "output_type": "display_data"
    }
   ],
   "source": [
    "declined_count.plot(y='Count')"
   ]
  },
  {
   "cell_type": "code",
   "execution_count": 63,
   "metadata": {},
   "outputs": [],
   "source": [
    "individual_count = merged_data.loc[merged_data['Type'] == 'Individual']"
   ]
  },
  {
   "cell_type": "code",
   "execution_count": 64,
   "metadata": {},
   "outputs": [
    {
     "data": {
      "text/plain": [
       "<matplotlib.axes._subplots.AxesSubplot at 0x7f7c7e93da90>"
      ]
     },
     "execution_count": 64,
     "metadata": {},
     "output_type": "execute_result"
    },
    {
     "data": {
      "image/png": "[encoded data removed]",
      "text/plain": [
       "<Figure size 432x288 with 1 Axes>"
      ]
     },
     "metadata": {
      "needs_background": "light"
     },
     "output_type": "display_data"
    }
   ],
   "source": [
    "individual_count.plot(y='Count')"
   ]
  },
  {
   "cell_type": "code",
   "execution_count": 65,
   "metadata": {},
   "outputs": [],
   "source": [
    "business_count = merged_data.loc[merged_data['Type'] == 'Business']"
   ]
  },
  {
   "cell_type": "code",
   "execution_count": 66,
   "metadata": {},
   "outputs": [
    {
     "data": {
      "text/plain": [
       "<matplotlib.axes._subplots.AxesSubplot at 0x7f7c7e80bcd0>"
      ]
     },
     "execution_count": 66,
     "metadata": {},
     "output_type": "execute_result"
    },
    {
     "data": {
      "image/png": "[encoded data removed]",
      "text/plain": [
       "<Figure size 432x288 with 1 Axes>"
      ]
     },
     "metadata": {
      "needs_background": "light"
     },
     "output_type": "display_data"
    }
   ],
   "source": [
    "business_count.plot(y='Count')"
   ]
  },
  {
   "cell_type": "code",
   "execution_count": 67,
   "metadata": {},
   "outputs": [],
   "source": [
    "no_count = merged_data.loc[merged_data['Type'] == 'No Receipt']"
   ]
  },
  {
   "cell_type": "code",
   "execution_count": 68,
   "metadata": {},
   "outputs": [
    {
     "data": {
      "text/plain": [
       "<matplotlib.axes._subplots.AxesSubplot at 0x7f7c7e7e8a90>"
      ]
     },
     "execution_count": 68,
     "metadata": {},
     "output_type": "execute_result"
    },
    {
     "data": {
      "image/png": "[encoded data removed]",
      "text/plain": [
       "<Figure size 432x288 with 1 Axes>"
      ]
     },
     "metadata": {
      "needs_background": "light"
     },
     "output_type": "display_data"
    }
   ],
   "source": [
    "no_count.plot(y='Count')"
   ]
  },
  {
   "cell_type": "code",
   "execution_count": 69,
   "metadata": {},
   "outputs": [],
   "source": [
    "month_total = total_count.groupby(by=[total_count.index.month]).aggregate({'Count': 'sum'})"
   ]
  },
  {
   "cell_type": "code",
   "execution_count": 70,
   "metadata": {},
   "outputs": [
    {
     "data": {
      "text/plain": [
       "<matplotlib.axes._subplots.AxesSubplot at 0x7f7c7e7107d0>"
      ]
     },
     "execution_count": 70,
     "metadata": {},
     "output_type": "execute_result"
    },
    {
     "data": {
      "image/png": "[encoded data removed]",
      "text/plain": [
       "<Figure size 432x288 with 1 Axes>"
      ]
     },
     "metadata": {
      "needs_background": "light"
     },
     "output_type": "display_data"
    }
   ],
   "source": [
    "month_total.plot.bar(rot=0)"
   ]
  },
  {
   "cell_type": "code",
   "execution_count": 71,
   "metadata": {},
   "outputs": [],
   "source": [
    "geo = pd.read_csv('habitat_data/datasets/donations_by_day_2012_2016.csv')"
   ]
  },
  {
   "cell_type": "code",
   "execution_count": 79,
   "metadata": {},
   "outputs": [],
   "source": [
    "geo = geo[pd.notnull(geo['Address'])]"
   ]
  },
  {
   "cell_type": "code",
   "execution_count": 85,
   "metadata": {},
   "outputs": [],
   "source": [
    "from pygeocoder import Geocoder\n",
    "import requests"
   ]
  },
  {
   "cell_type": "code",
   "execution_count": 84,
   "metadata": {},
   "outputs": [
    {
     "ename": "GeocoderError",
     "evalue": "Error REQUEST_DENIED\nQuery: https://maps.google.com/maps/api/geocode/json?address=11+Park+SQ%2C+Metuch%2C+NJ&sensor=false&bounds=&region=&language=&components=",
     "output_type": "error",
     "traceback": [
      "\u001b[0;31m---------------------------------------------------------------------------\u001b[0m",
      "\u001b[0;31mGeocoderError\u001b[0m                             Traceback (most recent call last)",
      "\u001b[0;32m<ipython-input-84-05155a6ce343>\u001b[0m in \u001b[0;36m<module>\u001b[0;34m\u001b[0m\n\u001b[0;32m----> 1\u001b[0;31m \u001b[0mGeocoder\u001b[0m\u001b[0;34m.\u001b[0m\u001b[0mgeocode\u001b[0m\u001b[0;34m(\u001b[0m\u001b[0;34m'11 Park SQ, Metuch, NJ'\u001b[0m\u001b[0;34m)\u001b[0m\u001b[0;34m.\u001b[0m\u001b[0mvalid_address\u001b[0m\u001b[0;34m\u001b[0m\u001b[0;34m\u001b[0m\u001b[0m\n\u001b[0m",
      "\u001b[0;32m/usr/lib/python3.7/site-packages/pygeocoder.py\u001b[0m in \u001b[0;36mgeocode\u001b[0;34m(self, address, sensor, bounds, region, language, components)\u001b[0m\n\u001b[1;32m    127\u001b[0m             \u001b[0;32mreturn\u001b[0m \u001b[0mGeocoderResult\u001b[0m\u001b[0;34m(\u001b[0m\u001b[0mself\u001b[0m\u001b[0;34m.\u001b[0m\u001b[0mget_data\u001b[0m\u001b[0;34m(\u001b[0m\u001b[0mparams\u001b[0m\u001b[0;34m=\u001b[0m\u001b[0mparams\u001b[0m\u001b[0;34m)\u001b[0m\u001b[0;34m)\u001b[0m\u001b[0;34m\u001b[0m\u001b[0;34m\u001b[0m\u001b[0m\n\u001b[1;32m    128\u001b[0m         \u001b[0;32melse\u001b[0m\u001b[0;34m:\u001b[0m\u001b[0;34m\u001b[0m\u001b[0;34m\u001b[0m\u001b[0m\n\u001b[0;32m--> 129\u001b[0;31m             \u001b[0;32mreturn\u001b[0m \u001b[0mGeocoderResult\u001b[0m\u001b[0;34m(\u001b[0m\u001b[0mGeocoder\u001b[0m\u001b[0;34m.\u001b[0m\u001b[0mget_data\u001b[0m\u001b[0;34m(\u001b[0m\u001b[0mparams\u001b[0m\u001b[0;34m=\u001b[0m\u001b[0mparams\u001b[0m\u001b[0;34m)\u001b[0m\u001b[0;34m)\u001b[0m\u001b[0;34m\u001b[0m\u001b[0;34m\u001b[0m\u001b[0m\n\u001b[0m\u001b[1;32m    130\u001b[0m \u001b[0;34m\u001b[0m\u001b[0m\n\u001b[1;32m    131\u001b[0m     \u001b[0;34m@\u001b[0m\u001b[0momnimethod\u001b[0m\u001b[0;34m\u001b[0m\u001b[0;34m\u001b[0m\u001b[0m\n",
      "\u001b[0;32m/usr/lib/python3.7/site-packages/pygeocoder.py\u001b[0m in \u001b[0;36mget_data\u001b[0;34m(self, params)\u001b[0m\n\u001b[1;32m    210\u001b[0m \u001b[0;34m\u001b[0m\u001b[0m\n\u001b[1;32m    211\u001b[0m         \u001b[0;32mif\u001b[0m \u001b[0mresponse_json\u001b[0m\u001b[0;34m[\u001b[0m\u001b[0;34m'status'\u001b[0m\u001b[0;34m]\u001b[0m \u001b[0;34m!=\u001b[0m \u001b[0mGeocoderError\u001b[0m\u001b[0;34m.\u001b[0m\u001b[0mG_GEO_OK\u001b[0m\u001b[0;34m:\u001b[0m\u001b[0;34m\u001b[0m\u001b[0;34m\u001b[0m\u001b[0m\n\u001b[0;32m--> 212\u001b[0;31m             \u001b[0;32mraise\u001b[0m \u001b[0mGeocoderError\u001b[0m\u001b[0;34m(\u001b[0m\u001b[0mresponse_json\u001b[0m\u001b[0;34m[\u001b[0m\u001b[0;34m'status'\u001b[0m\u001b[0;34m]\u001b[0m\u001b[0;34m,\u001b[0m \u001b[0mresponse\u001b[0m\u001b[0;34m.\u001b[0m\u001b[0murl\u001b[0m\u001b[0;34m)\u001b[0m\u001b[0;34m\u001b[0m\u001b[0;34m\u001b[0m\u001b[0m\n\u001b[0m\u001b[1;32m    213\u001b[0m         \u001b[0;32mreturn\u001b[0m \u001b[0mresponse_json\u001b[0m\u001b[0;34m[\u001b[0m\u001b[0;34m'results'\u001b[0m\u001b[0;34m]\u001b[0m\u001b[0;34m\u001b[0m\u001b[0;34m\u001b[0m\u001b[0m\n\u001b[1;32m    214\u001b[0m \u001b[0;34m\u001b[0m\u001b[0m\n",
      "\u001b[0;31mGeocoderError\u001b[0m: Error REQUEST_DENIED\nQuery: https://maps.google.com/maps/api/geocode/json?address=11+Park+SQ%2C+Metuch%2C+NJ&sensor=false&bounds=&region=&language=&components="
     ]
    }
   ],
   "source": [
    "Geocoder.geocode('11 Park SQ, Metuch, NJ').valid_address"
   ]
  },
  {
   "cell_type": "code",
   "execution_count": 89,
   "metadata": {},
   "outputs": [
    {
     "data": {
      "text/plain": [
       "{'error_message': 'You must use an API key to authenticate each request to Google Maps Platform APIs. For additional information, please refer to http://g.co/dev/maps-no-account',\n",
       " 'results': [],\n",
       " 'status': 'REQUEST_DENIED'}"
      ]
     },
     "execution_count": 89,
     "metadata": {},
     "output_type": "execute_result"
    }
   ],
   "source": [
    "url = 'https://maps.googleapis.com/maps/api/geocode/json'\n",
    "params = {'sensor': 'false', 'address': 'Mountain View, CA'}\n",
    "r = requests.get(url, params=params)\n",
    "r.json()\n",
    "#results = r.json()['results']\n",
    "#location = results[0]['geometry']['location']\n",
    "#location['lat'], location['lng']"
   ]
  },
  {
   "cell_type": "code",
   "execution_count": 92,
   "metadata": {},
   "outputs": [
    {
     "name": "stdout",
     "output_type": "stream",
     "text": [
      "Rantoul, Champaign County, Illinois, 61866, United States of America\n"
     ]
    }
   ],
   "source": [
    "from geopy.geocoders import Nominatim\n",
    "geolocator = Nominatim(user_agent=\"specify_your_app_name_here\")\n",
    "location = geolocator.geocode(\"CR N, Rantoul\")\n",
    "print(location.address)"
   ]
  },
  {
   "cell_type": "code",
   "execution_count": 99,
   "metadata": {},
   "outputs": [
    {
     "name": "stderr",
     "output_type": "stream",
     "text": [
      "/usr/lib/python3.7/site-packages/ipykernel_launcher.py:1: SettingWithCopyWarning: \n",
      "A value is trying to be set on a copy of a slice from a DataFrame.\n",
      "Try using .loc[row_indexer,col_indexer] = value instead\n",
      "\n",
      "See the caveats in the documentation: http://pandas.pydata.org/pandas-docs/stable/user_guide/indexing.html#returning-a-view-versus-a-copy\n",
      "  \"\"\"Entry point for launching an IPython kernel.\n",
      "/usr/lib/python3.7/site-packages/ipykernel_launcher.py:2: SettingWithCopyWarning: \n",
      "A value is trying to be set on a copy of a slice from a DataFrame.\n",
      "Try using .loc[row_indexer,col_indexer] = value instead\n",
      "\n",
      "See the caveats in the documentation: http://pandas.pydata.org/pandas-docs/stable/user_guide/indexing.html#returning-a-view-versus-a-copy\n",
      "  \n"
     ]
    }
   ],
   "source": [
    "geo['Lat'] = None\n",
    "geo['Long'] = None"
   ]
  },
  {
   "cell_type": "code",
   "execution_count": 108,
   "metadata": {},
   "outputs": [
    {
     "name": "stderr",
     "output_type": "stream",
     "text": [
      "/usr/lib/python3.7/site-packages/ipykernel_launcher.py:13: FutureWarning: set_value is deprecated and will be removed in a future release. Please use .at[] or .iat[] accessors instead\n",
      "  del sys.path[0]\n",
      "/usr/lib/python3.7/site-packages/ipykernel_launcher.py:14: FutureWarning: set_value is deprecated and will be removed in a future release. Please use .at[] or .iat[] accessors instead\n",
      "  \n"
     ]
    },
    {
     "name": "stdout",
     "output_type": "stream",
     "text": [
      "10\n",
      "20\n",
      "40\n",
      "50\n",
      "60\n",
      "70\n",
      "80\n",
      "90\n",
      "100\n",
      "110\n",
      "120\n",
      "130\n",
      "140\n",
      "150\n",
      "160\n",
      "170\n",
      "180\n",
      "190\n",
      "200\n",
      "210\n",
      "220\n",
      "230\n",
      "240\n",
      "250\n",
      "260\n",
      "270\n",
      "280\n",
      "300\n",
      "310\n",
      "330\n",
      "340\n",
      "350\n",
      "360\n",
      "370\n",
      "380\n",
      "390\n",
      "400\n",
      "430\n",
      "460\n",
      "470\n",
      "480\n",
      "490\n",
      "510\n",
      "520\n",
      "540\n",
      "550\n",
      "560\n",
      "570\n",
      "580\n",
      "590\n",
      "600\n",
      "610\n",
      "620\n",
      "630\n",
      "650\n",
      "660\n",
      "670\n",
      "680\n",
      "690\n",
      "710\n",
      "720\n",
      "730\n",
      "740\n",
      "750\n",
      "760\n",
      "770\n",
      "790\n",
      "830\n",
      "880\n",
      "890\n",
      "900\n",
      "910\n",
      "930\n",
      "960\n",
      "970\n",
      "1000\n",
      "1020\n",
      "1040\n",
      "1060\n",
      "1080\n",
      "1090\n",
      "1100\n",
      "1120\n",
      "1150\n",
      "1160\n",
      "1170\n",
      "1180\n",
      "1190\n",
      "1200\n",
      "1210\n",
      "1220\n",
      "1240\n",
      "1280\n",
      "1300\n",
      "1320\n",
      "1330\n",
      "1340\n",
      "1390\n",
      "1400\n",
      "1410\n",
      "1430\n",
      "1440\n",
      "1450\n",
      "1460\n",
      "1480\n",
      "1530\n",
      "1550\n",
      "1570\n",
      "1580\n",
      "1590\n",
      "1600\n",
      "1610\n",
      "1620\n",
      "1640\n",
      "1650\n",
      "1660\n",
      "1670\n",
      "1700\n",
      "1710\n",
      "1720\n",
      "1790\n",
      "1820\n",
      "1870\n",
      "1880\n",
      "1890\n",
      "1900\n",
      "1920\n",
      "1930\n",
      "1950\n",
      "1980\n",
      "1990\n",
      "2000\n",
      "2020\n",
      "2040\n",
      "2050\n",
      "2070\n",
      "2080\n",
      "2110\n",
      "2120\n",
      "2160\n",
      "2170\n",
      "2180\n",
      "2190\n",
      "2200\n",
      "2210\n",
      "2230\n",
      "2240\n",
      "2250\n",
      "2260\n",
      "2270\n",
      "2280\n",
      "2290\n",
      "2300\n",
      "2330\n",
      "2340\n",
      "2350\n",
      "2360\n",
      "2370\n",
      "2380\n",
      "2400\n",
      "2410\n",
      "2420\n",
      "2430\n",
      "2450\n",
      "2470\n",
      "2480\n",
      "2490\n",
      "2500\n",
      "2520\n",
      "2530\n",
      "2550\n",
      "2560\n",
      "2570\n",
      "2580\n",
      "2590\n",
      "2600\n",
      "2610\n",
      "2620\n",
      "2630\n",
      "2640\n",
      "2650\n",
      "2660\n",
      "2670\n",
      "2680\n",
      "2690\n",
      "2710\n",
      "2720\n",
      "2730\n",
      "2740\n",
      "2750\n",
      "2760\n",
      "2770\n",
      "2780\n",
      "2790\n",
      "2800\n",
      "2810\n",
      "2820\n",
      "2840\n",
      "2860\n",
      "2870\n",
      "2880\n",
      "2890\n",
      "2900\n",
      "2910\n",
      "2920\n",
      "2930\n",
      "2950\n",
      "2960\n",
      "2970\n",
      "2980\n",
      "2990\n",
      "3000\n",
      "3010\n",
      "3020\n",
      "3030\n",
      "3040\n",
      "3050\n",
      "3060\n",
      "3070\n",
      "3080\n",
      "3090\n",
      "3100\n",
      "3110\n",
      "3120\n",
      "3130\n",
      "3140\n",
      "3150\n",
      "3160\n",
      "3170\n",
      "3180\n",
      "3200\n",
      "3210\n",
      "3220\n",
      "3240\n",
      "3260\n",
      "3270\n",
      "3280\n",
      "3290\n",
      "3300\n",
      "3310\n",
      "3320\n",
      "3330\n",
      "3340\n",
      "3350\n",
      "3360\n",
      "3370\n",
      "3380\n",
      "3390\n",
      "3420\n",
      "3430\n",
      "3440\n",
      "3450\n",
      "3460\n",
      "3470\n",
      "3480\n",
      "3490\n",
      "3500\n",
      "3510\n",
      "3520\n",
      "3540\n",
      "3560\n",
      "3580\n",
      "3590\n",
      "3600\n",
      "3620\n",
      "3640\n",
      "3650\n",
      "3680\n",
      "3690\n",
      "3700\n",
      "3710\n",
      "3720\n",
      "3730\n",
      "3740\n",
      "3750\n",
      "3770\n",
      "3790\n",
      "3800\n",
      "3810\n",
      "3820\n",
      "3830\n",
      "3840\n",
      "3850\n",
      "3860\n",
      "3870\n",
      "3880\n",
      "3890\n",
      "3900\n",
      "3910\n",
      "3930\n",
      "3940\n",
      "3950\n",
      "3960\n",
      "3970\n",
      "3980\n",
      "3990\n",
      "4000\n",
      "4010\n",
      "4020\n",
      "4030\n",
      "4040\n",
      "4050\n",
      "4060\n",
      "4070\n",
      "4080\n",
      "4090\n",
      "4100\n",
      "4110\n",
      "4120\n",
      "4130\n",
      "4150\n",
      "4170\n",
      "4180\n",
      "4190\n",
      "4200\n",
      "4210\n",
      "4220\n",
      "4230\n",
      "4250\n",
      "4260\n",
      "4270\n",
      "4280\n",
      "4290\n",
      "4300\n",
      "4310\n",
      "4320\n",
      "4330\n",
      "4340\n",
      "4360\n",
      "4370\n",
      "4380\n",
      "4410\n",
      "4430\n",
      "4450\n",
      "4460\n",
      "4470\n",
      "4480\n",
      "4490\n",
      "4500\n",
      "4520\n",
      "4530\n",
      "4540\n",
      "4550\n",
      "4570\n",
      "4580\n",
      "4590\n",
      "4620\n",
      "4630\n",
      "4640\n",
      "4650\n",
      "4660\n",
      "4670\n",
      "4690\n",
      "4700\n",
      "4710\n",
      "4720\n",
      "4730\n",
      "4740\n",
      "4750\n",
      "4760\n",
      "4770\n",
      "4780\n",
      "4790\n",
      "4800\n",
      "4810\n",
      "4820\n",
      "4830\n",
      "4840\n",
      "4860\n",
      "4870\n",
      "4880\n",
      "4920\n",
      "4930\n",
      "4950\n",
      "4960\n",
      "4970\n",
      "5000\n",
      "5030\n",
      "5080\n",
      "5090\n",
      "5100\n",
      "5110\n",
      "5130\n",
      "5140\n",
      "5170\n",
      "5180\n",
      "5190\n",
      "5200\n",
      "5210\n",
      "5240\n",
      "5250\n",
      "5260\n",
      "5270\n",
      "5280\n",
      "5290\n",
      "5300\n",
      "5310\n",
      "5320\n",
      "5330\n",
      "5340\n",
      "5350\n",
      "5360\n",
      "5370\n",
      "5380\n",
      "5390\n",
      "5400\n",
      "5410\n",
      "5420\n",
      "5430\n",
      "5440\n",
      "5450\n",
      "5460\n",
      "5470\n",
      "5480\n",
      "5490\n",
      "5500\n",
      "5520\n",
      "5530\n",
      "5540\n",
      "5550\n",
      "5560\n",
      "5570\n",
      "5580\n",
      "5590\n",
      "5610\n",
      "5620\n",
      "5630\n",
      "5640\n",
      "5650\n",
      "5660\n",
      "5670\n",
      "5680\n",
      "5700\n",
      "5710\n",
      "5720\n",
      "5730\n",
      "5740\n",
      "5750\n",
      "5760\n",
      "5770\n",
      "5780\n",
      "5790\n",
      "5800\n",
      "5810\n",
      "5820\n",
      "5850\n",
      "5860\n",
      "5870\n",
      "5880\n",
      "5890\n",
      "5900\n",
      "5910\n",
      "5930\n",
      "5940\n",
      "5960\n",
      "5970\n",
      "5980\n",
      "5990\n",
      "6000\n",
      "6010\n",
      "6020\n",
      "6040\n",
      "6050\n",
      "6100\n",
      "6120\n",
      "6140\n",
      "6160\n",
      "6170\n",
      "6180\n",
      "6200\n",
      "6210\n",
      "6220\n",
      "6230\n",
      "6240\n"
     ]
    }
   ],
   "source": [
    "#geo['Address'].apply(lambda x: geolocator.geocode(x))\n",
    "i = 0\n",
    "for index, row in geo.iterrows():\n",
    "        try:\n",
    "            geolocator = Nominatim(user_agent=\"specify_your_app_name_here\")\n",
    "            location = geolocator.geocode(row['Address'])\n",
    "        except:\n",
    "            i += 1\n",
    "        \n",
    "        if location is None:\n",
    "            i+= 1\n",
    "            continue\n",
    "        geo.set_value(index,'Lat',location.latitude)\n",
    "        geo.set_value(index,'Long',location.longitude)\n",
    "        i+=1\n",
    "        if i % 10 == 0:\n",
    "            print(i)"
   ]
  },
  {
   "cell_type": "code",
   "execution_count": 116,
   "metadata": {},
   "outputs": [],
   "source": [
    "geo = geo[pd.notnull(geo['Lat'])]"
   ]
  },
  {
   "cell_type": "code",
   "execution_count": 117,
   "metadata": {},
   "outputs": [
    {
     "data": {
      "text/html": [
       "<div>\n",
       "<style scoped>\n",
       "    .dataframe tbody tr th:only-of-type {\n",
       "        vertical-align: middle;\n",
       "    }\n",
       "\n",
       "    .dataframe tbody tr th {\n",
       "        vertical-align: top;\n",
       "    }\n",
       "\n",
       "    .dataframe thead th {\n",
       "        text-align: right;\n",
       "    }\n",
       "</style>\n",
       "<table border=\"1\" class=\"dataframe\">\n",
       "  <thead>\n",
       "    <tr style=\"text-align: right;\">\n",
       "      <th></th>\n",
       "      <th>ID</th>\n",
       "      <th>Date</th>\n",
       "      <th>DayOfWeek</th>\n",
       "      <th>Type</th>\n",
       "      <th>ReceiptDeclined</th>\n",
       "      <th>Address</th>\n",
       "      <th>AddToMailingList</th>\n",
       "      <th>VolunteerInterest</th>\n",
       "      <th>NoOfDonations</th>\n",
       "      <th>Notes</th>\n",
       "      <th>Lat</th>\n",
       "      <th>Long</th>\n",
       "    </tr>\n",
       "  </thead>\n",
       "  <tbody>\n",
       "    <tr>\n",
       "      <td>0</td>\n",
       "      <td>1</td>\n",
       "      <td>8/14/2015</td>\n",
       "      <td>Friday</td>\n",
       "      <td>NaN</td>\n",
       "      <td>NaN</td>\n",
       "      <td>CR  N, Rantoul</td>\n",
       "      <td>n</td>\n",
       "      <td>n</td>\n",
       "      <td>1.0</td>\n",
       "      <td>NaN</td>\n",
       "      <td>40.3084</td>\n",
       "      <td>-88.1559</td>\n",
       "    </tr>\n",
       "    <tr>\n",
       "      <td>1</td>\n",
       "      <td>2</td>\n",
       "      <td>8/14/2015</td>\n",
       "      <td>Friday</td>\n",
       "      <td>NaN</td>\n",
       "      <td>NaN</td>\n",
       "      <td>Delmar Ave, Champaign</td>\n",
       "      <td>n</td>\n",
       "      <td>n</td>\n",
       "      <td>1.0</td>\n",
       "      <td>NaN</td>\n",
       "      <td>40.1232</td>\n",
       "      <td>-88.2974</td>\n",
       "    </tr>\n",
       "    <tr>\n",
       "      <td>2</td>\n",
       "      <td>3</td>\n",
       "      <td>8/14/2015</td>\n",
       "      <td>Friday</td>\n",
       "      <td>NaN</td>\n",
       "      <td>NaN</td>\n",
       "      <td>Turkey Farm Rd, Mahomet</td>\n",
       "      <td>n</td>\n",
       "      <td>n</td>\n",
       "      <td>1.0</td>\n",
       "      <td>NaN</td>\n",
       "      <td>40.2018</td>\n",
       "      <td>-88.4267</td>\n",
       "    </tr>\n",
       "    <tr>\n",
       "      <td>4</td>\n",
       "      <td>5</td>\n",
       "      <td>8/14/2015</td>\n",
       "      <td>Friday</td>\n",
       "      <td>NaN</td>\n",
       "      <td>NaN</td>\n",
       "      <td>B Patton Dr, Mahomet</td>\n",
       "      <td>n</td>\n",
       "      <td>n</td>\n",
       "      <td>1.0</td>\n",
       "      <td>NaN</td>\n",
       "      <td>40.1857</td>\n",
       "      <td>-88.3798</td>\n",
       "    </tr>\n",
       "    <tr>\n",
       "      <td>5</td>\n",
       "      <td>6</td>\n",
       "      <td>8/14/2015</td>\n",
       "      <td>Friday</td>\n",
       "      <td>NaN</td>\n",
       "      <td>NaN</td>\n",
       "      <td>Brighton Dr, Urbana IL</td>\n",
       "      <td>n</td>\n",
       "      <td>n</td>\n",
       "      <td>1.0</td>\n",
       "      <td>NaN</td>\n",
       "      <td>40.093</td>\n",
       "      <td>-88.1961</td>\n",
       "    </tr>\n",
       "    <tr>\n",
       "      <td>...</td>\n",
       "      <td>...</td>\n",
       "      <td>...</td>\n",
       "      <td>...</td>\n",
       "      <td>...</td>\n",
       "      <td>...</td>\n",
       "      <td>...</td>\n",
       "      <td>...</td>\n",
       "      <td>...</td>\n",
       "      <td>...</td>\n",
       "      <td>...</td>\n",
       "      <td>...</td>\n",
       "      <td>...</td>\n",
       "    </tr>\n",
       "    <tr>\n",
       "      <td>10063</td>\n",
       "      <td>10064</td>\n",
       "      <td>8/13/2015</td>\n",
       "      <td>Thursday</td>\n",
       "      <td>NaN</td>\n",
       "      <td>NaN</td>\n",
       "      <td>Burkwood Ct. W,  Urbana</td>\n",
       "      <td>n</td>\n",
       "      <td>n</td>\n",
       "      <td>1.0</td>\n",
       "      <td>NaN</td>\n",
       "      <td>40.0965</td>\n",
       "      <td>-88.2048</td>\n",
       "    </tr>\n",
       "    <tr>\n",
       "      <td>10064</td>\n",
       "      <td>10065</td>\n",
       "      <td>8/13/2015</td>\n",
       "      <td>Thursday</td>\n",
       "      <td>NaN</td>\n",
       "      <td>NaN</td>\n",
       "      <td>Clubhouse, Champaign</td>\n",
       "      <td>n</td>\n",
       "      <td>n</td>\n",
       "      <td>1.0</td>\n",
       "      <td>NaN</td>\n",
       "      <td>40.1052</td>\n",
       "      <td>-88.1901</td>\n",
       "    </tr>\n",
       "    <tr>\n",
       "      <td>10065</td>\n",
       "      <td>10066</td>\n",
       "      <td>8/13/2015</td>\n",
       "      <td>Thursday</td>\n",
       "      <td>NaN</td>\n",
       "      <td>NaN</td>\n",
       "      <td>CR  N, Dewey IL</td>\n",
       "      <td>n</td>\n",
       "      <td>n</td>\n",
       "      <td>1.0</td>\n",
       "      <td>NaN</td>\n",
       "      <td>45.1789</td>\n",
       "      <td>-100.859</td>\n",
       "    </tr>\n",
       "    <tr>\n",
       "      <td>10066</td>\n",
       "      <td>10067</td>\n",
       "      <td>8/13/2015</td>\n",
       "      <td>Thursday</td>\n",
       "      <td>NaN</td>\n",
       "      <td>NaN</td>\n",
       "      <td>Willow Lane, Mission Hills, KS</td>\n",
       "      <td>n</td>\n",
       "      <td>y</td>\n",
       "      <td>1.0</td>\n",
       "      <td>NaN</td>\n",
       "      <td>39.0103</td>\n",
       "      <td>-94.6134</td>\n",
       "    </tr>\n",
       "    <tr>\n",
       "      <td>10068</td>\n",
       "      <td>10069</td>\n",
       "      <td>8/13/2015</td>\n",
       "      <td>Thursday</td>\n",
       "      <td>NaN</td>\n",
       "      <td>NaN</td>\n",
       "      <td>E. McHenry, Urbana</td>\n",
       "      <td>y</td>\n",
       "      <td>n</td>\n",
       "      <td>1.0</td>\n",
       "      <td>NaN</td>\n",
       "      <td>40.0878</td>\n",
       "      <td>-88.1995</td>\n",
       "    </tr>\n",
       "  </tbody>\n",
       "</table>\n",
       "<p>4719 rows × 12 columns</p>\n",
       "</div>"
      ],
      "text/plain": [
       "          ID       Date DayOfWeek Type ReceiptDeclined  \\\n",
       "0          1  8/14/2015    Friday  NaN             NaN   \n",
       "1          2  8/14/2015    Friday  NaN             NaN   \n",
       "2          3  8/14/2015    Friday  NaN             NaN   \n",
       "4          5  8/14/2015    Friday  NaN             NaN   \n",
       "5          6  8/14/2015    Friday  NaN             NaN   \n",
       "...      ...        ...       ...  ...             ...   \n",
       "10063  10064  8/13/2015  Thursday  NaN             NaN   \n",
       "10064  10065  8/13/2015  Thursday  NaN             NaN   \n",
       "10065  10066  8/13/2015  Thursday  NaN             NaN   \n",
       "10066  10067  8/13/2015  Thursday  NaN             NaN   \n",
       "10068  10069  8/13/2015  Thursday  NaN             NaN   \n",
       "\n",
       "                              Address AddToMailingList VolunteerInterest  \\\n",
       "0                      CR  N, Rantoul                n                 n   \n",
       "1               Delmar Ave, Champaign                n                 n   \n",
       "2             Turkey Farm Rd, Mahomet                n                 n   \n",
       "4                B Patton Dr, Mahomet                n                 n   \n",
       "5              Brighton Dr, Urbana IL                n                 n   \n",
       "...                               ...              ...               ...   \n",
       "10063         Burkwood Ct. W,  Urbana                n                 n   \n",
       "10064            Clubhouse, Champaign                n                 n   \n",
       "10065                 CR  N, Dewey IL                n                 n   \n",
       "10066  Willow Lane, Mission Hills, KS                n                 y   \n",
       "10068              E. McHenry, Urbana                y                 n   \n",
       "\n",
       "       NoOfDonations Notes      Lat     Long  \n",
       "0                1.0   NaN  40.3084 -88.1559  \n",
       "1                1.0   NaN  40.1232 -88.2974  \n",
       "2                1.0   NaN  40.2018 -88.4267  \n",
       "4                1.0   NaN  40.1857 -88.3798  \n",
       "5                1.0   NaN   40.093 -88.1961  \n",
       "...              ...   ...      ...      ...  \n",
       "10063            1.0   NaN  40.0965 -88.2048  \n",
       "10064            1.0   NaN  40.1052 -88.1901  \n",
       "10065            1.0   NaN  45.1789 -100.859  \n",
       "10066            1.0   NaN  39.0103 -94.6134  \n",
       "10068            1.0   NaN  40.0878 -88.1995  \n",
       "\n",
       "[4719 rows x 12 columns]"
      ]
     },
     "execution_count": 117,
     "metadata": {},
     "output_type": "execute_result"
    }
   ],
   "source": [
    "geo"
   ]
  },
  {
   "cell_type": "code",
   "execution_count": 118,
   "metadata": {},
   "outputs": [],
   "source": [
    "import gmplot\n",
    "# For improved table display in the notebook\n",
    "from IPython.display import display"
   ]
  },
  {
   "cell_type": "code",
   "execution_count": 123,
   "metadata": {},
   "outputs": [],
   "source": [
    "latitudes = geo[\"Lat\"]\n",
    "longitudes = geo[\"Long\"]\n",
    "gmap = gmplot.GoogleMapPlotter(34.0522, -118.2437, 10)\n",
    "gmap.heatmap(latitudes, longitudes)\n",
    "gmap.draw(\"t_heatmap.html\")"
   ]
  },
  {
   "cell_type": "code",
   "execution_count": 121,
   "metadata": {},
   "outputs": [],
   "source": [
    "geo.to_csv('geo.csv')"
   ]
  }
 ],
 "metadata": {
  "kernelspec": {
   "display_name": "Python 3",
   "language": "python",
   "name": "python3"
  },
  "language_info": {
   "codemirror_mode": {
    "name": "ipython",
    "version": 3
   },
   "file_extension": ".py",
   "mimetype": "text/x-python",
   "name": "python",
   "nbconvert_exporter": "python",
   "pygments_lexer": "ipython3",
   "version": "3.7.4"
  }
 },
 "nbformat": 4,
 "nbformat_minor": 2
}
